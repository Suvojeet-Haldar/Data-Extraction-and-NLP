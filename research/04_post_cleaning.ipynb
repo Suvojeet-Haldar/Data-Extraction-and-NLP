{
 "cells": [
  {
   "cell_type": "code",
   "execution_count": 1,
   "metadata": {},
   "outputs": [],
   "source": [
    "import os"
   ]
  },
  {
   "cell_type": "code",
   "execution_count": 2,
   "metadata": {},
   "outputs": [
    {
     "data": {
      "text/plain": [
       "'d:\\\\projects\\\\Data-Extraction-and-NLP\\\\research'"
      ]
     },
     "execution_count": 2,
     "metadata": {},
     "output_type": "execute_result"
    }
   ],
   "source": [
    "%pwd"
   ]
  },
  {
   "cell_type": "code",
   "execution_count": 3,
   "metadata": {},
   "outputs": [],
   "source": [
    "os.chdir(\"../\")"
   ]
  },
  {
   "cell_type": "code",
   "execution_count": 4,
   "metadata": {},
   "outputs": [
    {
     "data": {
      "text/plain": [
       "'d:\\\\projects\\\\Data-Extraction-and-NLP'"
      ]
     },
     "execution_count": 4,
     "metadata": {},
     "output_type": "execute_result"
    }
   ],
   "source": [
    "%pwd"
   ]
  },
  {
   "cell_type": "code",
   "execution_count": 5,
   "metadata": {},
   "outputs": [],
   "source": [
    "from dataclasses import dataclass\n",
    "from pathlib import Path\n",
    "\n",
    "\n",
    "@dataclass(frozen=True)\n",
    "class PostCleaningConfig:\n",
    "    root_dir: Path\n",
    "    positive_file_path: Path\n",
    "    negative_file_path: Path"
   ]
  },
  {
   "cell_type": "code",
   "execution_count": 6,
   "metadata": {},
   "outputs": [],
   "source": [
    "from src.DataExtractionAndNLP.constants import *\n",
    "from src.DataExtractionAndNLP.utils.common import read_yaml, create_directories\n",
    "\n",
    "class ConfigurationManager:\n",
    "    def __init__(\n",
    "        self,\n",
    "        config_filepath = CONFIG_FILE_PATH):\n",
    "        self.config = read_yaml(config_filepath)\n",
    "        create_directories([self.config.artifacts_root])\n",
    "\n",
    "\n",
    "    \n",
    "    def get_post_cleaning_config(self) -> PostCleaningConfig:\n",
    "        config = self.config.post_cleaning\n",
    "\n",
    "        post_cleaning_config = PostCleaningConfig(\n",
    "            root_dir=config.root_dir,\n",
    "            positive_file_path=config.positive_file_path,\n",
    "            negative_file_path=config.negative_file_path\n",
    "        )\n",
    "\n",
    "        return post_cleaning_config"
   ]
  },
  {
   "cell_type": "code",
   "execution_count": 8,
   "metadata": {},
   "outputs": [],
   "source": [
    "from src.DataExtractionAndNLP.utils.common import get_name\n",
    "import nltk\n",
    "from nltk.tokenize import sent_tokenize, word_tokenize\n",
    "\n",
    "class PostCleaning:\n",
    "    def __init__(self, config: PostCleaningConfig):\n",
    "        self.config = config\n",
    "\n",
    "    def create_sets(self):\n",
    "        # Read positive and negative words from your .txt files\n",
    "        def read_words_from_file(file_path):\n",
    "            with open(file_path, 'r', encoding='latin-1') as file:\n",
    "                return [word.strip() for word in file.readlines()]\n",
    "\n",
    "        # Read words from the files\n",
    "        positive_words = read_words_from_file(self.config.positive_file_path)\n",
    "        negative_words = read_words_from_file(self.config.negative_file_path)\n",
    "\n",
    "        # Create sets for positive and negative words\n",
    "        positive_set = set(positive_words)\n",
    "        negative_set = set(negative_words)\n",
    "\n",
    "        return positive_set, negative_set\n",
    "\n",
    "\n",
    "\n",
    "    def calculate(self, metrics, data, positive_set, negative_set):\n",
    "        filename = get_name(data)\n",
    "        output_file = os.path.join(self.config.root_dir, filename)\n",
    "\n",
    "        with open(output_file, 'r', encoding='utf-8') as file:\n",
    "            cleaned_text = file.read()\n",
    "\n",
    "            # Tokenize the cleaned text\n",
    "            tokens = nltk.word_tokenize(cleaned_text)\n",
    "\n",
    "            # Calculate positive and negative scores\n",
    "            positive_score = sum(1 for word in tokens if word.lower() in positive_set)\n",
    "            negative_score = sum(-1 for word in tokens if word.lower() in negative_set) * -1\n",
    "\n",
    "            # Calculate polarity and subjectivity scores\n",
    "            total_words = len(tokens)\n",
    "            polarity_score = (positive_score - negative_score) / (positive_score + negative_score + 0.000001)\n",
    "            subjectivity_score = (positive_score + negative_score) / (total_words + 0.000001)\n",
    "\n",
    "            # Calculating Word Count\n",
    "            cleaned_words_list = [word for word in tokens]\n",
    "            word_count = len(cleaned_words_list)\n",
    "\n",
    "            # Calculating Percentage of Complex Words\n",
    "            complex_word_count = metrics['complex_word_count']\n",
    "            percentage_complex_words = complex_word_count / word_count\n",
    "\n",
    "            # Calculating Fog Index\n",
    "            avg_sentence_length = metrics['avg_sentence_length']\n",
    "            fog_index = 0.4 * (avg_sentence_length + percentage_complex_words)\n",
    "\n",
    "            # Calculating Average Words Per Sentence\n",
    "            avg_words_per_sentence = word_count / len(sent_tokenize(cleaned_text))\n",
    "\n",
    "            metrics.update({\"positive_score\": positive_score, \"negative_score\": negative_score, \"polarity_score\": polarity_score, \"subjectivity_score\": subjectivity_score, \"word_count\": word_count, \"percentage_complex_words\": percentage_complex_words, \"fog_index\": fog_index, \"avg_words_per_sentence\": avg_words_per_sentence})\n",
    "\n",
    "            return metrics"
   ]
  },
  {
   "cell_type": "code",
   "execution_count": 9,
   "metadata": {},
   "outputs": [],
   "source": [
    "data=['https://insights.blackcoffer.com/ml-and-ai-based-insurance-premium-model-to-predict-premium-to-be-charged-by-the-insurance-company/', 'div', 'td-post-content tagdiv-type']\n",
    "\n",
    "data[2]=data[2].replace(\" \", \".\")\n",
    "\n",
    "metrics = {'avg_sentence_length': 17.2090395480226, 'complex_word_count': 323, 'syllable_count': 5681, 'personal_pronouns_count': 2, 'avg_word_length': 5.573539067629678}"
   ]
  },
  {
   "cell_type": "code",
   "execution_count": 10,
   "metadata": {},
   "outputs": [
    {
     "name": "stdout",
     "output_type": "stream",
     "text": [
      "[2024-08-02 12:07:09,388: INFO: common: yaml file: config\\config.yaml loaded successfully]\n",
      "[2024-08-02 12:07:09,390: INFO: common: created directory at: artifacts]\n"
     ]
    }
   ],
   "source": [
    "try:\n",
    "    config = ConfigurationManager()\n",
    "    post_cleaning_config = config.get_post_cleaning_config()\n",
    "    post_cleaning = PostCleaning(config=post_cleaning_config)\n",
    "    positive_set, negative_set = post_cleaning.create_sets()\n",
    "    metrics = post_cleaning.calculate(metrics, data, positive_set, negative_set)\n",
    "except Exception as e:\n",
    "    raise e"
   ]
  },
  {
   "cell_type": "code",
   "execution_count": 11,
   "metadata": {},
   "outputs": [
    {
     "data": {
      "text/plain": [
       "{'avg_sentence_length': 17.2090395480226,\n",
       " 'complex_word_count': 323,\n",
       " 'syllable_count': 5681,\n",
       " 'personal_pronouns_count': 2,\n",
       " 'avg_word_length': 5.573539067629678,\n",
       " 'positive_score': 138,\n",
       " 'negative_score': 45,\n",
       " 'polarity_score': 0.5081967185344441,\n",
       " 'subjectivity_score': 0.10077092505464155,\n",
       " 'word_count': 1816,\n",
       " 'percentage_complex_words': 0.177863436123348,\n",
       " 'fog_index': 6.9547611936583795,\n",
       " 'avg_words_per_sentence': 1816.0}"
      ]
     },
     "execution_count": 11,
     "metadata": {},
     "output_type": "execute_result"
    }
   ],
   "source": [
    "metrics"
   ]
  },
  {
   "cell_type": "code",
   "execution_count": null,
   "metadata": {},
   "outputs": [],
   "source": []
  }
 ],
 "metadata": {
  "kernelspec": {
   "display_name": "DataExtractionAndNLP",
   "language": "python",
   "name": "python3"
  },
  "language_info": {
   "codemirror_mode": {
    "name": "ipython",
    "version": 3
   },
   "file_extension": ".py",
   "mimetype": "text/x-python",
   "name": "python",
   "nbconvert_exporter": "python",
   "pygments_lexer": "ipython3",
   "version": "3.12.4"
  }
 },
 "nbformat": 4,
 "nbformat_minor": 2
}
