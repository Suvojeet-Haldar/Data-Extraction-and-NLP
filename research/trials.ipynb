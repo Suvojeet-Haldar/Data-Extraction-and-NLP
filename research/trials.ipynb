{
 "cells": [
  {
   "cell_type": "code",
   "execution_count": 5,
   "metadata": {},
   "outputs": [],
   "source": [
    "data=['https://insights.blackcoffer.com/ml-and-ai-based-insurance-premium-model-to-predict-premium-to-be-charged-by-the-insurance-company/', 'div', 'td-post-content tagdiv-type']"
   ]
  },
  {
   "cell_type": "code",
   "execution_count": 6,
   "metadata": {},
   "outputs": [],
   "source": [
    "data[2]=data[2].replace(\" \", \".\")"
   ]
  },
  {
   "cell_type": "code",
   "execution_count": 7,
   "metadata": {},
   "outputs": [
    {
     "data": {
      "text/plain": [
       "['https://insights.blackcoffer.com/ml-and-ai-based-insurance-premium-model-to-predict-premium-to-be-charged-by-the-insurance-company/',\n",
       " 'div',\n",
       " 'td-post-content.tagdiv-type']"
      ]
     },
     "execution_count": 7,
     "metadata": {},
     "output_type": "execute_result"
    }
   ],
   "source": [
    "data"
   ]
  },
  {
   "cell_type": "code",
   "execution_count": 1,
   "metadata": {},
   "outputs": [],
   "source": [
    "metrics = {'avg_sentence_length': 17.2090395480226, 'complex_word_count': 323, 'syllable_count': 5681, 'personal_pronouns_count': 2, 'avg_word_length': 5.573539067629678, 'positive_score': 138, 'negative_score': 45, 'polarity_score': 0.5081967185344441, 'subjectivity_score': 0.10077092505464155, 'word_count': 1816, 'percentage_complex_words': 0.177863436123348, 'fog_index': 6.9547611936583795, 'avg_words_per_sentence': 1816.0}"
   ]
  },
  {
   "cell_type": "code",
   "execution_count": 2,
   "metadata": {},
   "outputs": [
    {
     "name": "stdout",
     "output_type": "stream",
     "text": [
      "{'avg_sentence_length': 17.2090395480226, 'complex_word_count': 323, 'syllable_count': 5681, 'personal_pronouns_count': 2, 'avg_word_length': 5.573539067629678, 'positive_score': 138, 'negative_score': 45, 'polarity_score': 0.5081967185344441, 'subjectivity_score': 0.10077092505464155, 'word_count': 1816, 'percentage_complex_words': 0.177863436123348, 'fog_index': 6.9547611936583795, 'avg_words_per_sentence': 1816.0}\n"
     ]
    },
    {
     "ename": "",
     "evalue": "",
     "output_type": "error",
     "traceback": [
      "\u001b[1;31mThe Kernel crashed while executing code in the current cell or a previous cell. \n",
      "\u001b[1;31mPlease review the code in the cell(s) to identify a possible cause of the failure. \n",
      "\u001b[1;31mClick <a href='https://aka.ms/vscodeJupyterKernelCrash'>here</a> for more info. \n",
      "\u001b[1;31mView Jupyter <a href='command:jupyter.viewOutput'>log</a> for further details."
     ]
    }
   ],
   "source": [
    "print(str(metrics))"
   ]
  },
  {
   "cell_type": "code",
   "execution_count": null,
   "metadata": {},
   "outputs": [],
   "source": []
  }
 ],
 "metadata": {
  "kernelspec": {
   "display_name": "DataExtractionAndNLP",
   "language": "python",
   "name": "python3"
  },
  "language_info": {
   "codemirror_mode": {
    "name": "ipython",
    "version": 3
   },
   "file_extension": ".py",
   "mimetype": "text/x-python",
   "name": "python",
   "nbconvert_exporter": "python",
   "pygments_lexer": "ipython3",
   "version": "3.12.4"
  }
 },
 "nbformat": 4,
 "nbformat_minor": 2
}
