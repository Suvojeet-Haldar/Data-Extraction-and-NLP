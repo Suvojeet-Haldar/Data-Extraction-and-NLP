{
 "cells": [
  {
   "cell_type": "code",
   "execution_count": 1,
   "metadata": {},
   "outputs": [],
   "source": [
    "import os"
   ]
  },
  {
   "cell_type": "code",
   "execution_count": 2,
   "metadata": {},
   "outputs": [
    {
     "data": {
      "text/plain": [
       "'d:\\\\projects\\\\Data-Extraction-and-NLP\\\\research'"
      ]
     },
     "execution_count": 2,
     "metadata": {},
     "output_type": "execute_result"
    }
   ],
   "source": [
    "%pwd"
   ]
  },
  {
   "cell_type": "code",
   "execution_count": 3,
   "metadata": {},
   "outputs": [],
   "source": [
    "os.chdir(\"../\")"
   ]
  },
  {
   "cell_type": "code",
   "execution_count": 4,
   "metadata": {},
   "outputs": [
    {
     "data": {
      "text/plain": [
       "'d:\\\\projects\\\\Data-Extraction-and-NLP'"
      ]
     },
     "execution_count": 4,
     "metadata": {},
     "output_type": "execute_result"
    }
   ],
   "source": [
    "%pwd"
   ]
  },
  {
   "cell_type": "code",
   "execution_count": 5,
   "metadata": {},
   "outputs": [],
   "source": [
    "from dataclasses import dataclass\n",
    "from pathlib import Path\n",
    "\n",
    "\n",
    "@dataclass(frozen=True)\n",
    "class DataIngestionConfig:\n",
    "    root_dir: Path\n",
    "    source_URL: str\n",
    "    local_data_file: Path\n",
    "    unzip_dir: Path"
   ]
  },
  {
   "cell_type": "code",
   "execution_count": 6,
   "metadata": {},
   "outputs": [],
   "source": [
    "from src.DataExtractionAndNLP.constants import *\n",
    "from src.DataExtractionAndNLP.utils.common import read_yaml, create_directories"
   ]
  },
  {
   "cell_type": "code",
   "execution_count": 7,
   "metadata": {},
   "outputs": [],
   "source": [
    "class ConfigurationManager:\n",
    "    def __init__(\n",
    "        self,\n",
    "        config_filepath = CONFIG_FILE_PATH,\n",
    "        params_filepath = PARAMS_FILE_PATH):\n",
    "        # schema_filepath = SCHEMA_FILE_PATH):\n",
    "\n",
    "        self.config = read_yaml(config_filepath)\n",
    "        self.params = read_yaml(params_filepath)\n",
    "        # self.schema = read_yaml(schema_filepath)\n",
    "\n",
    "        create_directories([self.config.artifacts_root])\n",
    "\n",
    "\n",
    "    \n",
    "    def get_data_ingestion_config(self) -> DataIngestionConfig:\n",
    "        config = self.config.data_ingestion\n",
    "\n",
    "        create_directories([config.root_dir])\n",
    "\n",
    "        data_ingestion_config = DataIngestionConfig(\n",
    "            root_dir=config.root_dir,\n",
    "            source_URL=config.source_URL,\n",
    "            local_data_file=config.local_data_file,\n",
    "            unzip_dir=config.unzip_dir \n",
    "        )\n",
    "\n",
    "        return data_ingestion_config"
   ]
  },
  {
   "cell_type": "code",
   "execution_count": 8,
   "metadata": {},
   "outputs": [],
   "source": [
    "import os\n",
    "from src.DataExtractionAndNLP import logger"
   ]
  },
  {
   "cell_type": "code",
   "execution_count": 9,
   "metadata": {},
   "outputs": [],
   "source": [
    "from nltk.tokenize import sent_tokenize, word_tokenize\n",
    "from nltk.corpus import cmudict\n",
    "import re\n",
    "from src.DataExtractionAndNLP.utils.common import get_name"
   ]
  },
  {
   "cell_type": "code",
   "execution_count": 10,
   "metadata": {},
   "outputs": [],
   "source": [
    "class PreCleaning:\n",
    "    def __init__(self, config: DataIngestionConfig):\n",
    "        self.config = config\n",
    "\n",
    "    def calculate(self, data):\n",
    "        filename = get_name(data)\n",
    "\n",
    "        output_file = os.path.join(self.config.root_dir, filename)\n",
    "\n",
    "        with open(output_file, 'r', encoding='utf-8') as file:\n",
    "            text = file.read()\n",
    "\n",
    "            # Function to calculate average word length\n",
    "            def average_word_length(text):\n",
    "                words = word_tokenize(text)\n",
    "                total_chars = sum(len(word) for word in words)\n",
    "                num_words = len(words)\n",
    "                return total_chars / num_words\n",
    "            \n",
    "            # Function to count syllables in a word\n",
    "            def count_syllables(word):\n",
    "                vowels = 'aeiouAEIOU'\n",
    "                syllables = 0\n",
    "                prev_char_vowel = False\n",
    "                for char in word:\n",
    "                    if char in vowels:\n",
    "                        if not prev_char_vowel:\n",
    "                            syllables += 1\n",
    "                        prev_char_vowel = True\n",
    "                    else:\n",
    "                        prev_char_vowel = False\n",
    "                return syllables\n",
    "            \n",
    "            # Function to count complex words (more than two syllables)\n",
    "            def count_complex_words(text):\n",
    "                words = word_tokenize(text)\n",
    "                d = cmudict.dict()\n",
    "                complex_words = [word for word in words if len(d.get(word.lower(), [])) > 2]\n",
    "                return len(complex_words)\n",
    "            \n",
    "            # Function to calculate average sentence length\n",
    "            def average_sentence_length(text):\n",
    "                sentences = sent_tokenize(text)\n",
    "                num_sentences = len(sentences)\n",
    "                words = word_tokenize(text)\n",
    "                num_words = len(words)\n",
    "                return num_words / num_sentences\n",
    "\n",
    "            # Calculate metrics\n",
    "            avg_sentence_length = average_sentence_length(text)\n",
    "            complex_word_count = count_complex_words(text)\n",
    "            syllable_count = sum(count_syllables(word) for word in word_tokenize(text))\n",
    "            personal_pronouns_count = len(re.findall(r'\\b(I|we|my|ours)\\b', text, flags=re.IGNORECASE))\n",
    "            personal_pronouns_count+=len(re.findall(r'\\b(us|Us|uS)\\b', text))\n",
    "            avg_word_length = average_word_length(text)\n",
    "\n",
    "            metrics={\"avg_sentence_length\":avg_sentence_length, \"complex_word_count\":complex_word_count, \"syllable_count\":syllable_count, \"personal_pronouns_count\":personal_pronouns_count, \"avg_word_length\":avg_word_length}\n",
    "\n",
    "            return metrics\n",
    "    "
   ]
  },
  {
   "cell_type": "code",
   "execution_count": 11,
   "metadata": {},
   "outputs": [],
   "source": [
    "data=['https://insights.blackcoffer.com/ml-and-ai-based-insurance-premium-model-to-predict-premium-to-be-charged-by-the-insurance-company/', 'div', 'td-post-content tagdiv-type']\n",
    "\n",
    "data[2]=data[2].replace(\" \", \".\")"
   ]
  },
  {
   "cell_type": "code",
   "execution_count": 12,
   "metadata": {},
   "outputs": [
    {
     "name": "stdout",
     "output_type": "stream",
     "text": [
      "[2024-08-01 12:54:42,112: INFO: common: yaml file: config\\config.yaml loaded successfully]\n",
      "[2024-08-01 12:54:42,114: INFO: common: yaml file: params.yaml loaded successfully]\n",
      "[2024-08-01 12:54:42,115: INFO: common: created directory at: artifacts]\n",
      "[2024-08-01 12:54:42,116: INFO: common: created directory at: artifacts/data_ingestion]\n"
     ]
    }
   ],
   "source": [
    "try:\n",
    "    config = ConfigurationManager()\n",
    "    data_ingestion_config = config.get_data_ingestion_config()\n",
    "    pre_cleaning = PreCleaning(config=data_ingestion_config)\n",
    "    metrics = pre_cleaning.calculate(data)\n",
    "except Exception as e:\n",
    "    raise e"
   ]
  },
  {
   "cell_type": "code",
   "execution_count": 13,
   "metadata": {},
   "outputs": [
    {
     "data": {
      "text/plain": [
       "{'avg_sentence_length': 17.2090395480226,\n",
       " 'complex_word_count': 323,\n",
       " 'syllable_count': 5681,\n",
       " 'personal_pronouns_count': 2,\n",
       " 'avg_word_length': 5.573539067629678}"
      ]
     },
     "execution_count": 13,
     "metadata": {},
     "output_type": "execute_result"
    }
   ],
   "source": [
    "metrics"
   ]
  },
  {
   "cell_type": "code",
   "execution_count": null,
   "metadata": {},
   "outputs": [],
   "source": []
  }
 ],
 "metadata": {
  "kernelspec": {
   "display_name": "DataExtractionAndNLP",
   "language": "python",
   "name": "python3"
  },
  "language_info": {
   "codemirror_mode": {
    "name": "ipython",
    "version": 3
   },
   "file_extension": ".py",
   "mimetype": "text/x-python",
   "name": "python",
   "nbconvert_exporter": "python",
   "pygments_lexer": "ipython3",
   "version": "3.12.4"
  }
 },
 "nbformat": 4,
 "nbformat_minor": 2
}
